{
 "cells": [
  {
   "cell_type": "code",
   "execution_count": 1,
   "metadata": {},
   "outputs": [],
   "source": [
    "import numpy as np\n",
    "import statsmodels.api as sm\n",
    "import pandas as pd\n",
    "from datetime import datetime\n",
    "from statsmodels.stats.sandwich_covariance import cov_hac as cov\n",
    "import matplotlib.pyplot as plt\n",
    "from scipy.stats import chi2\n",
    "from pandas.plotting import register_matplotlib_converters\n",
    "register_matplotlib_converters()\n",
    "from pypfopt import risk_models\n",
    "from pypfopt import expected_returns\n",
    "from pypfopt.efficient_frontier import EfficientFrontier"
   ]
  },
  {
   "cell_type": "code",
   "execution_count": 2,
   "metadata": {},
   "outputs": [],
   "source": [
    "# Import the data sets\n",
    "factors = pd.read_csv('F-F_Research_Data_5_Factors_2x3.CSV',skiprows=3)\n",
    "mom = pd.read_csv('F-F_Momentum_Factor.CSV',skiprows=13)\n",
    "data = pd.read_csv('25_Portfolios_ME_Prior_12_2.CSV',skiprows=11)\n",
    "\n",
    "# Clean up\n",
    "factors = factors.drop(range(669,len(factors)),axis=0)\n",
    "factors.columns = ['Date', 'Mkt-RF', 'SMB', 'HML', 'RMW', 'CMA', 'RF']\n",
    "factors['Date'] = factors['Date'].apply(lambda x: datetime.strptime(str(x), '%Y%m'))\n",
    "for column in factors.columns[1:]:\n",
    "    factors[column]= factors[column].astype('float')\n",
    "\n",
    "mom = mom.drop(range(1107,len(mom)),axis=0)\n",
    "mom.columns = ['Date', 'MOM']\n",
    "mom['Date'] = mom['Date'].apply(lambda x: datetime.strptime(str(x), '%Y%m'))\n",
    "for column in mom.columns[1:]:\n",
    "    mom[column]= mom[column].astype('float')\n",
    "\n",
    "data = data.drop(range(1107,len(data)),axis=0)\n",
    "data = data.drop(range(0,438),axis=0)\n",
    "data = data.reset_index(drop=True)\n",
    "data.rename(columns={'Unnamed: 0':'Date'}, inplace=True)\n",
    "data['Date'] = data['Date'].apply(lambda x: datetime.strptime(str(x), '%Y%m'))\n",
    "for column in data.columns[1:]:\n",
    "    data[column]= data[column].astype('float')\n",
    "\n",
    "# Final data output\n",
    "data = pd.merge(data, factors.loc[:,['Date','RF']], on='Date', how='left')\n",
    "factors = pd.merge(factors, mom, on='Date', how='left')"
   ]
  },
  {
   "cell_type": "code",
   "execution_count": 3,
   "metadata": {},
   "outputs": [],
   "source": [
    "### Wrapped OLS statsmodel routine\n",
    "def OLS(x, y, addcon=True, cov_type=None, sig_level=.05, summary=0, cov_kwds = None):\n",
    "    \"\"\"Wrapper for statsmodels OLS regression\n",
    "    \"\"\"\n",
    "    if addcon:\n",
    "        X = sm.add_constant(x)\n",
    "    else:\n",
    "        X = x\n",
    "    if cov_type==None:\n",
    "        ols_results = sm.OLS(y,X).fit(cov_type='nonrobust')\n",
    "    else:\n",
    "        ols_results = sm.OLS(y,X).fit(cov_type=cov_type, cov_kwds=cov_kwds)\n",
    "     \n",
    "    ### print out the OLS estimation results\n",
    "    if summary==1:\n",
    "        print(ols_results.summary())  \n",
    "    \n",
    "    ols_cov_mat  = cov(ols_results)\n",
    "    ols_beta_hat = ols_results.params # beta_hat\n",
    "    ols_resids   = ols_results.resid  # resids\n",
    "    ols_se       = ols_results.bse\n",
    "    ols_pvalues  = ols_results.pvalues\n",
    "\n",
    "    return ols_beta_hat, ols_resids, ols_se, ols_cov_mat, ols_pvalues"
   ]
  },
  {
   "cell_type": "code",
   "execution_count": 4,
   "metadata": {},
   "outputs": [],
   "source": [
    "def latex_table(df, caption=\"\", label=\"\", index=False):\n",
    "    return \"\\\\begin{table}[H]\\n\\centering\\n\"+df.to_latex(index=index)+\"\\caption{\"+caption+\"}\\n\\label{tab:\"+label+\"}\\n\\end{table}\""
   ]
  },
  {
   "cell_type": "code",
   "execution_count": 5,
   "metadata": {},
   "outputs": [],
   "source": [
    "def GRS(alpha_hat, x, residuals, N, print_result=1):\n",
    "    \"\"\"\n",
    "        alpha_hat is a numpy array with shape (T,1)\n",
    "        x is a numpy array that contains de factors as columns [x_t,1 | ... | x_t,N ]\n",
    "        residuals is a numpy array that contains de residuals as rows [r_t,1 | ... | r_t,N ]'\n",
    "    \"\"\"\n",
    "    T = len(x)\n",
    "    k = x.shape[1]\n",
    "    sigma = np.cov(residuals)\n",
    "    sigma_inv = np.linalg.inv(sigma)\n",
    "    mu_F = np.mean(x,axis=0)\n",
    "    if x.shape[1]==1:\n",
    "        omega_F = np.array([[np.var(x)]])\n",
    "    else:\n",
    "        omega_F = np.cov(x.T)\n",
    "    omega_F_inv = np.linalg.inv(omega_F)\n",
    "    num = np.matmul(alpha_hat.T,np.matmul(sigma_inv,alpha_hat))\n",
    "    den = 1+np.matmul(mu_F.T,np.matmul(omega_F_inv,mu_F))\n",
    "    chi2_statistic = (T*num/den)[0][0]\n",
    "    if print_result:\n",
    "        print('Chi-square test statistic:', np.round(chi2_statistic,2))\n",
    "        print('P-value:',1-chi2.cdf(chi2_statistic, N))        "
   ]
  },
  {
   "cell_type": "code",
   "execution_count": 6,
   "metadata": {},
   "outputs": [],
   "source": [
    "## Problem 1-3 wrapper\n",
    "def HW_question(covariables, question, print_OLS, print_latex_table):\n",
    "    \"\"\"\n",
    "    Question 1: covariables=['Mkt-RF']\n",
    "    Question 2: covariables=['Mkt-RF','SMB','HML']\n",
    "    Question 3: covariables=['Mkt-RF','SMB','HML','MOM']\n",
    "    question is a number between 1 and 3 for printing purposes\n",
    "    \"\"\"\n",
    "    k = len(covariables)\n",
    "    x = np.array(factors.loc[:,covariables])\n",
    "    alpha = np.zeros((25,4))\n",
    "    betas = np.zeros((k,25,4))\n",
    "    mean_returns = np.zeros((25,1))\n",
    "    excess_returns = np.zeros((25,len(x)))\n",
    "    fitted_returns = np.zeros((25,len(x)))  \n",
    "    residuals = np.zeros((25,len(x)))\n",
    "\n",
    "    # Regressions (parts a, b and d)\n",
    "    for i in range(25):\n",
    "        y = np.array(data.iloc[:,i+1]-data.iloc[:,26]).reshape(-1,1) # Second term is RF\n",
    "        mean_returns[i] = np.mean(y)\n",
    "        # White\n",
    "        #xw_beta, xw_resids, xw_se, xw_cov, xw_pvalues = OLS(x, y, addcon=True, sig_level=.05, summary=print_OLS)\n",
    "        # Newey-West\n",
    "        xn_beta, xn_resids, xn_se, xn_cov, xn_pvalues  = OLS(x, y, addcon=True, cov_type='HAC', sig_level=.05, summary=print_OLS, cov_kwds={'maxlags':1})\n",
    "        # Alpha\n",
    "        alpha_i = xn_beta[0]\n",
    "        alpha_i_se = xn_se[0]\n",
    "        alpha_i_pvalue = xn_pvalues[0]\n",
    "        alpha[i] = np.array([i+1, alpha_i, alpha_i_se, alpha_i_pvalue])\n",
    "        # Beta and residuals\n",
    "        fit = alpha_i\n",
    "        for kk in range(k):\n",
    "            betas_i_kk = xn_beta[kk+1]\n",
    "            betas_i_kk_se = xn_se[kk+1]\n",
    "            betas_i_kk_pvalue = xn_pvalues[kk+1]\n",
    "            betas[kk][i] = np.array([i+1, betas_i_kk, betas_i_kk_se, betas_i_kk_pvalue])\n",
    "            fit += betas_i_kk*x[:,kk]\n",
    "        excess_returns[i] = y.reshape(1,-1)\n",
    "        fitted_returns[i] = fit.reshape(1,-1)\n",
    "        residuals[i] = y.reshape(1,-1)-fit.reshape(1,-1)\n",
    "    \n",
    "    # Output\n",
    "    alpha_table = pd.DataFrame(alpha, columns = ['i', 'coef', 's.e.', 'p-value'])\n",
    "    decimals = pd.Series([0, 2, 2, 4], index=['i', 'coef', 's.e.', 'p-value'])\n",
    "    if print_latex_table==1:\n",
    "        print('\\n alpha\\n\\n'+latex_table(alpha_table.round(decimals),caption=\"Results for each $\\\\alpha_i$\",label=\"Q\"+str(question)+\"_alpha\"))\n",
    "    betas_table = {}\n",
    "    for kk in range(k):\n",
    "        betas_table[kk+1] = pd.DataFrame(betas[kk], columns = ['i', 'coef', 's.e.', 'p-value'])\n",
    "        if print_latex_table==1:\n",
    "            print('\\n beta '+str(kk+1)+'\\n\\n'+latex_table(betas_table[kk+1].round(decimals),caption=\"Results for $\\\\beta_i$ \"+str(kk+1), label=\"Q\"+str(question)+\"_beta\"+str(kk+1)))\n",
    "\n",
    "    # Fitted returns vs mean returns. Off sample prediction (part c)\n",
    "    betas_model = np.zeros((k,25,1))\n",
    "    fitted_returns = np.zeros((25,1))\n",
    "    for i in range(25):\n",
    "        y = np.array(data.iloc[:,i+1]-data.iloc[:,26]).reshape(-1,1)\n",
    "        xn_beta_is, xn_resids_is, xn_se_is, xn_cov_is, xn_pvalues_is  = OLS(x, y, addcon=False, cov_type='HAC', sig_level=.05, summary=print_OLS, cov_kwds={'maxlags':1})\n",
    "        for kk in range(k):\n",
    "            betas_model[kk][i] = xn_beta_is[kk]\n",
    "    for kk in range(k):\n",
    "        risk_premium = np.mean(x[:,kk])\n",
    "        beta_kk_coef = betas_model[kk]\n",
    "        fitted_returns += beta_kk_coef*risk_premium\n",
    "    return_t = np.array(np.array(data.iloc[:,1:26])-np.array(data.iloc[:,26]).reshape(-1,1))\n",
    "    mean_returns = np.mean(return_t,axis=0)\n",
    "    max_return = max([np.max(fitted_returns), np.max(mean_returns)])+0.1\n",
    "    line = np.linspace(0,max_return,100)\n",
    "    plt.figure(figsize=(5,5))\n",
    "    plt.scatter(fitted_returns, mean_returns)\n",
    "    plt.plot(line, line, 'orange')\n",
    "    plt.xlim([0,max_return])\n",
    "    plt.ylim([0,max_return])\n",
    "    plt.gca().set_aspect('equal', adjustable='box')\n",
    "    plt.rcParams.update({'font.size': 13})\n",
    "    plt.ylabel(\"Average Realized Returns\\n(% per month)\")\n",
    "    plt.xlabel(\"Fitted Returns\\n(% per month)\")\n",
    "    plt.tight_layout()\n",
    "    plt.savefig('Q'+str(question)+'c.eps', format='eps', dpi=1000)\n",
    "    plt.show()\n",
    "    \n",
    "    # GRS (part e)\n",
    "    alpha_hat = np.array(alpha_table.loc[:,'coef']).reshape(-1,1)\n",
    "    GRS(alpha_hat, x, residuals, N=25, print_result=1)\n",
    "    \n",
    "    return alpha_table, betas_table\n"
   ]
  },
  {
   "cell_type": "markdown",
   "metadata": {},
   "source": [
    "## Question 1"
   ]
  },
  {
   "cell_type": "code",
   "execution_count": 7,
   "metadata": {
    "scrolled": false
   },
   "outputs": [
    {
     "data": {
      "image/png": "[encoded data removed]",
      "text/plain": [
       "<Figure size 360x360 with 1 Axes>"
      ]
     },
     "metadata": {
      "needs_background": "light"
     },
     "output_type": "display_data"
    },
    {
     "name": "stdout",
     "output_type": "stream",
     "text": [
      "Chi-square test statistic: 135.77\n",
      "P-value: 0.0\n"
     ]
    }
   ],
   "source": [
    "alpha, betas = HW_question(covariables=['Mkt-RF'], question=1, print_OLS=0, print_latex_table=0)"
   ]
  },
  {
   "cell_type": "code",
   "execution_count": 8,
   "metadata": {},
   "outputs": [],
   "source": [
    "#Graph for part f\n",
    "market_y = np.mean(factors['Mkt-RF'])\n",
    "market_x = np.std(factors['Mkt-RF'])\n",
    "Rf_y = np.mean(factors['RF'])\n",
    "Rf_x = 0\n",
    "S = np.cov(data[data.columns[1:-1]].T)\n",
    "CML = lambda x : (market_y/market_x) * (x - Rf_x) + Rf_y \n",
    "portfolios = np.zeros((2,25))\n",
    "for counter in range(25):\n",
    "    variable = data[data.columns[counter+1]]\n",
    "    portfolios[0][counter] = np.mean(variable)\n",
    "    portfolios[1][counter] = np.std(variable)"
   ]
  },
  {
   "cell_type": "code",
   "execution_count": 9,
   "metadata": {},
   "outputs": [
    {
     "name": "stdout",
     "output_type": "stream",
     "text": [
      "Expected annual return: 133.2%\n",
      "Annual volatility: 490.5%\n",
      "Sharpe Ratio: 0.27\n"
     ]
    }
   ],
   "source": [
    "#Efficient Frontier\n",
    "ef = EfficientFrontier(portfolios[0], S)\n",
    "return_range = np.arange(0.35,1.8,0.05)\n",
    "frontier_return = []\n",
    "frontier_vol = []\n",
    "for r in return_range:\n",
    "    ef.efficient_return(target_return=r)\n",
    "    frontier_return.append(ef.portfolio_performance()[0])\n",
    "    frontier_vol.append(ef.portfolio_performance()[1])\n",
    "raw_weights = ef.max_sharpe()\n",
    "#cleaned_weights = ef.clean_weights()\n",
    "#print(cleaned_weights)\n",
    "ef.portfolio_performance(verbose=True)\n",
    "tan_y = ef.portfolio_performance()[0]\n",
    "tan_x = ef.portfolio_performance()[1]\n",
    "tangent_line = lambda x : ((tan_y-Rf_y)/(tan_x-Rf_x)) * (x - Rf_x) + Rf_y "
   ]
  },
  {
   "cell_type": "code",
   "execution_count": 10,
   "metadata": {},
   "outputs": [
    {
     "data": {
      "text/plain": [
       "4.388794451764749"
      ]
     },
     "execution_count": 10,
     "metadata": {},
     "output_type": "execute_result"
    }
   ],
   "source": [
    "market_x"
   ]
  },
  {
   "cell_type": "code",
   "execution_count": 11,
   "metadata": {},
   "outputs": [
    {
     "data": {
      "text/plain": [
       "Text(0, 0.5, 'return')"
      ]
     },
     "execution_count": 11,
     "metadata": {},
     "output_type": "execute_result"
    },
    {
     "data": {
      "image/png": "[encoded data removed]",
      "text/plain": [
       "<Figure size 432x288 with 1 Axes>"
      ]
     },
     "metadata": {
      "needs_background": "light"
     },
     "output_type": "display_data"
    }
   ],
   "source": [
    "plt.scatter(portfolios[1],portfolios[0])\n",
    "plt.scatter(tan_x,tan_y,color='red')\n",
    "xrange = np.arange(0,9,0.2)\n",
    "plt.plot(xrange, [CML(x) for x in xrange], color='orange')\n",
    "plt.plot(xrange, [tangent_line(x) for x in xrange], color='green')\n",
    "plt.plot(frontier_vol,frontier_return)\n",
    "plt.xlabel('volatility')\n",
    "plt.ylabel('return')"
   ]
  },
  {
   "cell_type": "markdown",
   "metadata": {},
   "source": [
    "## Question 2"
   ]
  },
  {
   "cell_type": "code",
   "execution_count": 12,
   "metadata": {
    "scrolled": false
   },
   "outputs": [
    {
     "data": {
      "image/png": "[encoded data removed]",
      "text/plain": [
       "<Figure size 360x360 with 1 Axes>"
      ]
     },
     "metadata": {
      "needs_background": "light"
     },
     "output_type": "display_data"
    },
    {
     "name": "stdout",
     "output_type": "stream",
     "text": [
      "Chi-square test statistic: 136.02\n",
      "P-value: 0.0\n"
     ]
    }
   ],
   "source": [
    "alpha, betas = HW_question(covariables=['Mkt-RF','SMB','HML'], question=2, print_OLS=0, print_latex_table=0)"
   ]
  },
  {
   "cell_type": "markdown",
   "metadata": {},
   "source": [
    "## Question 3"
   ]
  },
  {
   "cell_type": "code",
   "execution_count": 13,
   "metadata": {
    "scrolled": false
   },
   "outputs": [
    {
     "data": {
      "image/png": "[encoded data removed]",
      "text/plain": [
       "<Figure size 360x360 with 1 Axes>"
      ]
     },
     "metadata": {
      "needs_background": "light"
     },
     "output_type": "display_data"
    },
    {
     "name": "stdout",
     "output_type": "stream",
     "text": [
      "Chi-square test statistic: 102.77\n",
      "P-value: 2.1340151867832446e-11\n"
     ]
    }
   ],
   "source": [
    "alpha, betas = HW_question(covariables=['Mkt-RF','SMB','HML','MOM'], question=3, print_OLS=0, print_latex_table=0)"
   ]
  },
  {
   "cell_type": "markdown",
   "metadata": {},
   "source": [
    "## Question 4"
   ]
  },
  {
   "cell_type": "code",
   "execution_count": 14,
   "metadata": {},
   "outputs": [],
   "source": [
    "covariables=['Mkt-RF','SMB','HML','MOM']\n",
    "FF4_Factors = np.array(factors.loc[:,covariables])\n",
    "alpha_coefs = alpha['coef']\n",
    "beta_1 = betas[1]['coef']\n",
    "beta_2 = betas[2]['coef']\n",
    "beta_3 = betas[3]['coef']\n",
    "beta_4 = betas[4]['coef']\n",
    "X = np.c_[beta_1, beta_2, beta_3, beta_4]"
   ]
  },
  {
   "cell_type": "code",
   "execution_count": 15,
   "metadata": {},
   "outputs": [
    {
     "name": "stdout",
     "output_type": "stream",
     "text": [
      "                            OLS Regression Results                            \n",
      "==============================================================================\n",
      "Dep. Variable:                      y   R-squared:                       0.856\n",
      "Model:                            OLS   Adj. R-squared:                  0.827\n",
      "Method:                 Least Squares   F-statistic:                     29.77\n",
      "Date:                Wed, 08 May 2019   Prob (F-statistic):           3.62e-08\n",
      "Time:                        23:35:07   Log-Likelihood:                 16.334\n",
      "No. Observations:                  25   AIC:                            -22.67\n",
      "Df Residuals:                      20   BIC:                            -16.57\n",
      "Df Model:                           4                                         \n",
      "Covariance Type:            nonrobust                                         \n",
      "==============================================================================\n",
      "                 coef    std err          t      P>|t|      [0.025      0.975]\n",
      "------------------------------------------------------------------------------\n",
      "const          0.1131      0.708      0.160      0.875      -1.364       1.590\n",
      "x1             0.4866      0.649      0.750      0.462      -0.866       1.840\n",
      "x2             0.2118      0.065      3.261      0.004       0.076       0.347\n",
      "x3             0.5539      0.430      1.289      0.212      -0.342       1.450\n",
      "x4             0.7403      0.075      9.834      0.000       0.583       0.897\n",
      "==============================================================================\n",
      "Omnibus:                        2.620   Durbin-Watson:                   1.325\n",
      "Prob(Omnibus):                  0.270   Jarque-Bera (JB):                1.538\n",
      "Skew:                          -0.599   Prob(JB):                        0.463\n",
      "Kurtosis:                       3.207   Cond. No.                         56.5\n",
      "==============================================================================\n",
      "\n",
      "Warnings:\n",
      "[1] Standard Errors assume that the covariance matrix of the errors is correctly specified.\n"
     ]
    }
   ],
   "source": [
    "avg_returns = []\n",
    "for i in range(25):\n",
    "    returns = data.iloc[:,i+1]-data.iloc[:,26]\n",
    "    avg_returns.append(np.mean(returns))\n",
    "avg_returns = np.array(avg_returns)\n",
    "xn_beta, xn_resids, xn_se, xn_cov, xn_pvalues  = OLS(X, avg_returns, addcon=True, summary=1)"
   ]
  },
  {
   "cell_type": "code",
   "execution_count": 16,
   "metadata": {},
   "outputs": [
    {
     "data": {
      "text/html": [
       "<div>\n",
       "<style scoped>\n",
       "    .dataframe tbody tr th:only-of-type {\n",
       "        vertical-align: middle;\n",
       "    }\n",
       "\n",
       "    .dataframe tbody tr th {\n",
       "        vertical-align: top;\n",
       "    }\n",
       "\n",
       "    .dataframe thead th {\n",
       "        text-align: right;\n",
       "    }\n",
       "</style>\n",
       "<table border=\"1\" class=\"dataframe\">\n",
       "  <thead>\n",
       "    <tr style=\"text-align: right;\">\n",
       "      <th></th>\n",
       "      <th>Estimated Alphas</th>\n",
       "    </tr>\n",
       "  </thead>\n",
       "  <tbody>\n",
       "    <tr>\n",
       "      <th>0</th>\n",
       "      <td>-0.330152</td>\n",
       "    </tr>\n",
       "    <tr>\n",
       "      <th>1</th>\n",
       "      <td>-0.064008</td>\n",
       "    </tr>\n",
       "    <tr>\n",
       "      <th>2</th>\n",
       "      <td>0.065128</td>\n",
       "    </tr>\n",
       "    <tr>\n",
       "      <th>3</th>\n",
       "      <td>0.100153</td>\n",
       "    </tr>\n",
       "    <tr>\n",
       "      <th>4</th>\n",
       "      <td>0.222379</td>\n",
       "    </tr>\n",
       "    <tr>\n",
       "      <th>5</th>\n",
       "      <td>-0.146268</td>\n",
       "    </tr>\n",
       "    <tr>\n",
       "      <th>6</th>\n",
       "      <td>0.055824</td>\n",
       "    </tr>\n",
       "    <tr>\n",
       "      <th>7</th>\n",
       "      <td>-0.006174</td>\n",
       "    </tr>\n",
       "    <tr>\n",
       "      <th>8</th>\n",
       "      <td>0.031867</td>\n",
       "    </tr>\n",
       "    <tr>\n",
       "      <th>9</th>\n",
       "      <td>0.087408</td>\n",
       "    </tr>\n",
       "    <tr>\n",
       "      <th>10</th>\n",
       "      <td>0.073104</td>\n",
       "    </tr>\n",
       "    <tr>\n",
       "      <th>11</th>\n",
       "      <td>0.040083</td>\n",
       "    </tr>\n",
       "    <tr>\n",
       "      <th>12</th>\n",
       "      <td>-0.021674</td>\n",
       "    </tr>\n",
       "    <tr>\n",
       "      <th>13</th>\n",
       "      <td>-0.178996</td>\n",
       "    </tr>\n",
       "    <tr>\n",
       "      <th>14</th>\n",
       "      <td>0.069332</td>\n",
       "    </tr>\n",
       "    <tr>\n",
       "      <th>15</th>\n",
       "      <td>0.070439</td>\n",
       "    </tr>\n",
       "    <tr>\n",
       "      <th>16</th>\n",
       "      <td>0.105063</td>\n",
       "    </tr>\n",
       "    <tr>\n",
       "      <th>17</th>\n",
       "      <td>-0.009512</td>\n",
       "    </tr>\n",
       "    <tr>\n",
       "      <th>18</th>\n",
       "      <td>-0.027528</td>\n",
       "    </tr>\n",
       "    <tr>\n",
       "      <th>19</th>\n",
       "      <td>-0.023076</td>\n",
       "    </tr>\n",
       "    <tr>\n",
       "      <th>20</th>\n",
       "      <td>0.113714</td>\n",
       "    </tr>\n",
       "    <tr>\n",
       "      <th>21</th>\n",
       "      <td>0.210012</td>\n",
       "    </tr>\n",
       "    <tr>\n",
       "      <th>22</th>\n",
       "      <td>-0.096820</td>\n",
       "    </tr>\n",
       "    <tr>\n",
       "      <th>23</th>\n",
       "      <td>-0.181696</td>\n",
       "    </tr>\n",
       "    <tr>\n",
       "      <th>24</th>\n",
       "      <td>-0.158605</td>\n",
       "    </tr>\n",
       "  </tbody>\n",
       "</table>\n",
       "</div>"
      ],
      "text/plain": [
       "    Estimated Alphas\n",
       "0          -0.330152\n",
       "1          -0.064008\n",
       "2           0.065128\n",
       "3           0.100153\n",
       "4           0.222379\n",
       "5          -0.146268\n",
       "6           0.055824\n",
       "7          -0.006174\n",
       "8           0.031867\n",
       "9           0.087408\n",
       "10          0.073104\n",
       "11          0.040083\n",
       "12         -0.021674\n",
       "13         -0.178996\n",
       "14          0.069332\n",
       "15          0.070439\n",
       "16          0.105063\n",
       "17         -0.009512\n",
       "18         -0.027528\n",
       "19         -0.023076\n",
       "20          0.113714\n",
       "21          0.210012\n",
       "22         -0.096820\n",
       "23         -0.181696\n",
       "24         -0.158605"
      ]
     },
     "execution_count": 16,
     "metadata": {},
     "output_type": "execute_result"
    }
   ],
   "source": [
    "P4_alphas = pd.DataFrame({'Estimated Alphas':xn_resids})\n",
    "#print(latex_table(P4_alphas, caption=\"\", label=\"Estimated Alphas\", index=True))\n",
    "P4_alphas"
   ]
  },
  {
   "cell_type": "markdown",
   "metadata": {},
   "source": [
    "## Problem 5"
   ]
  },
  {
   "cell_type": "code",
   "execution_count": 17,
   "metadata": {},
   "outputs": [
    {
     "name": "stderr",
     "output_type": "stream",
     "text": [
      "C:\\Users\\conan\\Anaconda3\\lib\\site-packages\\numpy\\core\\fromnumeric.py:2389: FutureWarning: Method .ptp is deprecated and will be removed in a future version. Use numpy.ptp instead.\n",
      "  return ptp(axis=axis, out=out, **kwargs)\n"
     ]
    }
   ],
   "source": [
    "corner_upper_left = data['SMALL LoPRIOR']\n",
    "corner_upper_right = data['SMALL HiPRIOR']\n",
    "corner_lower_left = data['BIG LoPRIOR']\n",
    "corner_lower_right = data['BIG HiPRIOR']\n",
    "x = sm.add_constant(factors['Mkt-RF'])"
   ]
  },
  {
   "cell_type": "code",
   "execution_count": 18,
   "metadata": {},
   "outputs": [],
   "source": [
    "#Run the rolling regressions\n",
    "beta_upper_left = np.zeros(len(x)-60+1)\n",
    "beta_upper_right = np.zeros(len(x)-60+1)\n",
    "beta_lower_left = np.zeros(len(x)-60+1)\n",
    "beta_lower_right = np.zeros(len(x)-60+1)\n",
    "for counter in range(len(x)-60+1):\n",
    "    reg_ul = sm.OLS(corner_upper_left[counter:60+counter],x[counter:60+counter]).fit()\n",
    "    reg_ur = sm.OLS(corner_upper_right[counter:60+counter],x[counter:60+counter]).fit()\n",
    "    reg_ll = sm.OLS(corner_lower_left[counter:60+counter],x[counter:60+counter]).fit()\n",
    "    reg_lr = sm.OLS(corner_lower_right[counter:60+counter],x[counter:60+counter]).fit()\n",
    "    beta_upper_left[counter] = reg_ul.params[1]\n",
    "    beta_upper_right[counter] = reg_ur.params[1]\n",
    "    beta_lower_left[counter] = reg_ll.params[1]\n",
    "    beta_lower_right[counter] = reg_lr.params[1]"
   ]
  },
  {
   "cell_type": "code",
   "execution_count": 19,
   "metadata": {},
   "outputs": [
    {
     "data": {
      "image/png": "[encoded data removed]",
      "text/plain": [
       "<Figure size 432x288 with 1 Axes>"
      ]
     },
     "metadata": {
      "needs_background": "light"
     },
     "output_type": "display_data"
    }
   ],
   "source": [
    "#Plot the betas\n",
    "plt.plot(data['Date'][0:len(data)-60+1],beta_upper_left)\n",
    "plt.xlabel('Year')\n",
    "plt.ylabel('Beta')\n",
    "plt.savefig('beta_SMALL LoPRIOR.png')"
   ]
  },
  {
   "cell_type": "code",
   "execution_count": 20,
   "metadata": {},
   "outputs": [
    {
     "data": {
      "image/png": "[encoded data removed]",
      "text/plain": [
       "<Figure size 432x288 with 1 Axes>"
      ]
     },
     "metadata": {
      "needs_background": "light"
     },
     "output_type": "display_data"
    }
   ],
   "source": [
    "plt.plot(data['Date'][0:len(data)-60+1],beta_upper_right)\n",
    "plt.xlabel('Year')\n",
    "plt.ylabel('Beta')\n",
    "plt.savefig('beta_SMALL HiPRIOR.png')"
   ]
  },
  {
   "cell_type": "code",
   "execution_count": 21,
   "metadata": {},
   "outputs": [
    {
     "data": {
      "image/png": "[encoded data removed]",
      "text/plain": [
       "<Figure size 432x288 with 1 Axes>"
      ]
     },
     "metadata": {
      "needs_background": "light"
     },
     "output_type": "display_data"
    }
   ],
   "source": [
    "plt.plot(data['Date'][0:len(data)-60+1],beta_lower_left)\n",
    "plt.xlabel('Year')\n",
    "plt.ylabel('Beta')\n",
    "plt.savefig('beta_BIG LoPRIOR.png')"
   ]
  },
  {
   "cell_type": "code",
   "execution_count": 22,
   "metadata": {},
   "outputs": [
    {
     "data": {
      "image/png": "[encoded data removed]",
      "text/plain": [
       "<Figure size 432x288 with 1 Axes>"
      ]
     },
     "metadata": {
      "needs_background": "light"
     },
     "output_type": "display_data"
    }
   ],
   "source": [
    "plt.plot(data['Date'][0:len(data)-60+1],beta_lower_right)\n",
    "plt.xlabel('Year')\n",
    "plt.ylabel('Beta')\n",
    "plt.savefig('beta_BIG HiPRIOR.png')"
   ]
  },
  {
   "cell_type": "markdown",
   "metadata": {},
   "source": [
    "## Problem 6"
   ]
  },
  {
   "cell_type": "code",
   "execution_count": 23,
   "metadata": {},
   "outputs": [],
   "source": [
    "covariables=['Mkt-RF','SMB','HML','MOM']\n",
    "FF4_Factors = np.array(factors.loc[:,covariables])\n",
    "all_returns = []\n",
    "for i in range(25):\n",
    "    returns = data.iloc[:,i+1]-data.iloc[:,26]\n",
    "    all_returns.append(returns)\n",
    "all_returns = np.array(all_returns)"
   ]
  },
  {
   "cell_type": "code",
   "execution_count": 24,
   "metadata": {},
   "outputs": [],
   "source": [
    "T = len(all_returns[0])\n",
    "FM_betas = []\n",
    "FM_lambdas = []\n",
    "FM_alphas = []\n",
    "for j in range(T-60):\n",
    "    #60 beta estimates\n",
    "    betas = []\n",
    "    data60 = all_returns[0:len(all_returns), j:(60+j)]\n",
    "    factors60 = FF4_Factors[j:(60+j), 0:len(FF4_Factors[0])]\n",
    "    for i in range(25):\n",
    "        ols_beta_hat, ols_resids, ols_se, ols_cov_mat, ols_pvalues = OLS(factors60, data60[i], addcon=True, cov_type='HAC', cov_kwds={'maxlags':1})\n",
    "        betas.append(ols_beta_hat)\n",
    "    betas = np.array(betas)\n",
    "    FM_betas.append(betas)\n",
    "    #Lambda estimates\n",
    "    R_61 = all_returns[0:len(all_returns), (60+j)]\n",
    "    alphas = betas[:, 0]\n",
    "    betas = betas[:, 1:len(betas[0])]\n",
    "    ols_beta_hat, ols_resids, ols_se, ols_cov_mat, ols_pvalues = OLS(betas, R_61, addcon=True, summary = 0, cov_type='HAC', cov_kwds={'maxlags':1})\n",
    "    FM_lambdas.append(ols_beta_hat)\n",
    "    FM_alphas.append(ols_resids)\n",
    "FM_lambdas = np.array(FM_lambdas)\n",
    "FM_betas = np.array(FM_betas)\n",
    "FM_alphas = np.array(FM_alphas)"
   ]
  },
  {
   "cell_type": "markdown",
   "metadata": {},
   "source": [
    "#### Fama-MacBeth Lamda Estimates"
   ]
  },
  {
   "cell_type": "code",
   "execution_count": 25,
   "metadata": {},
   "outputs": [
    {
     "data": {
      "text/plain": [
       "array([ 0.96628831, -0.35323413,  0.13772876, -0.08895711,  0.60973755])"
      ]
     },
     "execution_count": 25,
     "metadata": {},
     "output_type": "execute_result"
    }
   ],
   "source": [
    "FM_lambda_est = (1 / (T - 59)) * np.sum(FM_lambdas, axis = 0)\n",
    "FM_lambda_est"
   ]
  },
  {
   "cell_type": "markdown",
   "metadata": {},
   "source": [
    "#### Fama-MacBeth Lamda Covariance Matrix"
   ]
  },
  {
   "cell_type": "code",
   "execution_count": 26,
   "metadata": {},
   "outputs": [
    {
     "data": {
      "text/plain": [
       "array([[ 0.05642309, -0.0486933 ,  0.00369129, -0.00832966,  0.00102219],\n",
       "       [-0.0486933 ,  0.0748223 ,  0.00215264, -0.00050352, -0.00590454],\n",
       "       [ 0.00369129,  0.00215264,  0.01559285, -0.00258516, -0.0022236 ],\n",
       "       [-0.00832966, -0.00050352, -0.00258516,  0.02455061, -0.0019045 ],\n",
       "       [ 0.00102219, -0.00590454, -0.0022236 , -0.0019045 ,  0.03036843]])"
      ]
     },
     "execution_count": 26,
     "metadata": {},
     "output_type": "execute_result"
    }
   ],
   "source": [
    "sum_err = np.zeros((5, 5))\n",
    "for i in range(len(FM_lambdas)):\n",
    "    err = FM_lambdas[i] - FM_lambda_est\n",
    "    sum_err = sum_err + np.matmul(err.reshape(len(err), 1), err.reshape(1, len(err)))\n",
    "FM_cov = (1 / (T - 59)**2) * sum_err\n",
    "FM_cov"
   ]
  },
  {
   "cell_type": "code",
   "execution_count": 27,
   "metadata": {},
   "outputs": [
    {
     "data": {
      "text/plain": [
       "array([0.23753546, 0.27353665, 0.12487135, 0.15668635, 0.17426541])"
      ]
     },
     "execution_count": 27,
     "metadata": {},
     "output_type": "execute_result"
    }
   ],
   "source": [
    "np.sqrt(np.diagonal(FM_cov))"
   ]
  },
  {
   "cell_type": "markdown",
   "metadata": {},
   "source": [
    "#### Fama-Macbeth Alpha Estimate"
   ]
  },
  {
   "cell_type": "code",
   "execution_count": 28,
   "metadata": {},
   "outputs": [
    {
     "data": {
      "text/html": [
       "<div>\n",
       "<style scoped>\n",
       "    .dataframe tbody tr th:only-of-type {\n",
       "        vertical-align: middle;\n",
       "    }\n",
       "\n",
       "    .dataframe tbody tr th {\n",
       "        vertical-align: top;\n",
       "    }\n",
       "\n",
       "    .dataframe thead th {\n",
       "        text-align: right;\n",
       "    }\n",
       "</style>\n",
       "<table border=\"1\" class=\"dataframe\">\n",
       "  <thead>\n",
       "    <tr style=\"text-align: right;\">\n",
       "      <th></th>\n",
       "      <th>Estimated Alphas</th>\n",
       "    </tr>\n",
       "  </thead>\n",
       "  <tbody>\n",
       "    <tr>\n",
       "      <th>0</th>\n",
       "      <td>-0.476330</td>\n",
       "    </tr>\n",
       "    <tr>\n",
       "      <th>1</th>\n",
       "      <td>-0.094612</td>\n",
       "    </tr>\n",
       "    <tr>\n",
       "      <th>2</th>\n",
       "      <td>0.062863</td>\n",
       "    </tr>\n",
       "    <tr>\n",
       "      <th>3</th>\n",
       "      <td>0.059872</td>\n",
       "    </tr>\n",
       "    <tr>\n",
       "      <th>4</th>\n",
       "      <td>0.287965</td>\n",
       "    </tr>\n",
       "    <tr>\n",
       "      <th>5</th>\n",
       "      <td>-0.208161</td>\n",
       "    </tr>\n",
       "    <tr>\n",
       "      <th>6</th>\n",
       "      <td>0.014264</td>\n",
       "    </tr>\n",
       "    <tr>\n",
       "      <th>7</th>\n",
       "      <td>0.046741</td>\n",
       "    </tr>\n",
       "    <tr>\n",
       "      <th>8</th>\n",
       "      <td>0.086373</td>\n",
       "    </tr>\n",
       "    <tr>\n",
       "      <th>9</th>\n",
       "      <td>0.131586</td>\n",
       "    </tr>\n",
       "    <tr>\n",
       "      <th>10</th>\n",
       "      <td>-0.067525</td>\n",
       "    </tr>\n",
       "    <tr>\n",
       "      <th>11</th>\n",
       "      <td>0.037431</td>\n",
       "    </tr>\n",
       "    <tr>\n",
       "      <th>12</th>\n",
       "      <td>0.017274</td>\n",
       "    </tr>\n",
       "    <tr>\n",
       "      <th>13</th>\n",
       "      <td>-0.085734</td>\n",
       "    </tr>\n",
       "    <tr>\n",
       "      <th>14</th>\n",
       "      <td>0.072046</td>\n",
       "    </tr>\n",
       "    <tr>\n",
       "      <th>15</th>\n",
       "      <td>0.056594</td>\n",
       "    </tr>\n",
       "    <tr>\n",
       "      <th>16</th>\n",
       "      <td>0.151075</td>\n",
       "    </tr>\n",
       "    <tr>\n",
       "      <th>17</th>\n",
       "      <td>0.084502</td>\n",
       "    </tr>\n",
       "    <tr>\n",
       "      <th>18</th>\n",
       "      <td>0.024592</td>\n",
       "    </tr>\n",
       "    <tr>\n",
       "      <th>19</th>\n",
       "      <td>0.016560</td>\n",
       "    </tr>\n",
       "    <tr>\n",
       "      <th>20</th>\n",
       "      <td>0.107214</td>\n",
       "    </tr>\n",
       "    <tr>\n",
       "      <th>21</th>\n",
       "      <td>0.150633</td>\n",
       "    </tr>\n",
       "    <tr>\n",
       "      <th>22</th>\n",
       "      <td>-0.104543</td>\n",
       "    </tr>\n",
       "    <tr>\n",
       "      <th>23</th>\n",
       "      <td>-0.156942</td>\n",
       "    </tr>\n",
       "    <tr>\n",
       "      <th>24</th>\n",
       "      <td>-0.213739</td>\n",
       "    </tr>\n",
       "  </tbody>\n",
       "</table>\n",
       "</div>"
      ],
      "text/plain": [
       "    Estimated Alphas\n",
       "0          -0.476330\n",
       "1          -0.094612\n",
       "2           0.062863\n",
       "3           0.059872\n",
       "4           0.287965\n",
       "5          -0.208161\n",
       "6           0.014264\n",
       "7           0.046741\n",
       "8           0.086373\n",
       "9           0.131586\n",
       "10         -0.067525\n",
       "11          0.037431\n",
       "12          0.017274\n",
       "13         -0.085734\n",
       "14          0.072046\n",
       "15          0.056594\n",
       "16          0.151075\n",
       "17          0.084502\n",
       "18          0.024592\n",
       "19          0.016560\n",
       "20          0.107214\n",
       "21          0.150633\n",
       "22         -0.104543\n",
       "23         -0.156942\n",
       "24         -0.213739"
      ]
     },
     "execution_count": 28,
     "metadata": {},
     "output_type": "execute_result"
    }
   ],
   "source": [
    "FM_alpha_est = (1 / (T - 59)) * np.sum(FM_alphas, axis = 0)\n",
    "FM_alphas = pd.DataFrame({'Estimated Alphas':FM_alpha_est})\n",
    "#print(latex_table(FM_alphas, caption=\"\", label=\"Estimated Alphas\", index=True))\n",
    "FM_alphas"
   ]
  },
  {
   "cell_type": "code",
   "execution_count": 29,
   "metadata": {},
   "outputs": [
    {
     "data": {
      "text/html": [
       "<div>\n",
       "<style scoped>\n",
       "    .dataframe tbody tr th:only-of-type {\n",
       "        vertical-align: middle;\n",
       "    }\n",
       "\n",
       "    .dataframe tbody tr th {\n",
       "        vertical-align: top;\n",
       "    }\n",
       "\n",
       "    .dataframe thead th {\n",
       "        text-align: right;\n",
       "    }\n",
       "</style>\n",
       "<table border=\"1\" class=\"dataframe\">\n",
       "  <thead>\n",
       "    <tr style=\"text-align: right;\">\n",
       "      <th></th>\n",
       "      <th>Estimated Alphas</th>\n",
       "    </tr>\n",
       "  </thead>\n",
       "  <tbody>\n",
       "    <tr>\n",
       "      <th>0</th>\n",
       "      <td>0.146177</td>\n",
       "    </tr>\n",
       "    <tr>\n",
       "      <th>1</th>\n",
       "      <td>0.030604</td>\n",
       "    </tr>\n",
       "    <tr>\n",
       "      <th>2</th>\n",
       "      <td>0.002265</td>\n",
       "    </tr>\n",
       "    <tr>\n",
       "      <th>3</th>\n",
       "      <td>0.040281</td>\n",
       "    </tr>\n",
       "    <tr>\n",
       "      <th>4</th>\n",
       "      <td>0.065587</td>\n",
       "    </tr>\n",
       "    <tr>\n",
       "      <th>5</th>\n",
       "      <td>0.061893</td>\n",
       "    </tr>\n",
       "    <tr>\n",
       "      <th>6</th>\n",
       "      <td>0.041560</td>\n",
       "    </tr>\n",
       "    <tr>\n",
       "      <th>7</th>\n",
       "      <td>0.052915</td>\n",
       "    </tr>\n",
       "    <tr>\n",
       "      <th>8</th>\n",
       "      <td>0.054506</td>\n",
       "    </tr>\n",
       "    <tr>\n",
       "      <th>9</th>\n",
       "      <td>0.044177</td>\n",
       "    </tr>\n",
       "    <tr>\n",
       "      <th>10</th>\n",
       "      <td>0.140629</td>\n",
       "    </tr>\n",
       "    <tr>\n",
       "      <th>11</th>\n",
       "      <td>0.002652</td>\n",
       "    </tr>\n",
       "    <tr>\n",
       "      <th>12</th>\n",
       "      <td>0.038948</td>\n",
       "    </tr>\n",
       "    <tr>\n",
       "      <th>13</th>\n",
       "      <td>0.093262</td>\n",
       "    </tr>\n",
       "    <tr>\n",
       "      <th>14</th>\n",
       "      <td>0.002714</td>\n",
       "    </tr>\n",
       "    <tr>\n",
       "      <th>15</th>\n",
       "      <td>0.013846</td>\n",
       "    </tr>\n",
       "    <tr>\n",
       "      <th>16</th>\n",
       "      <td>0.046012</td>\n",
       "    </tr>\n",
       "    <tr>\n",
       "      <th>17</th>\n",
       "      <td>0.094014</td>\n",
       "    </tr>\n",
       "    <tr>\n",
       "      <th>18</th>\n",
       "      <td>0.052120</td>\n",
       "    </tr>\n",
       "    <tr>\n",
       "      <th>19</th>\n",
       "      <td>0.039636</td>\n",
       "    </tr>\n",
       "    <tr>\n",
       "      <th>20</th>\n",
       "      <td>0.006500</td>\n",
       "    </tr>\n",
       "    <tr>\n",
       "      <th>21</th>\n",
       "      <td>0.059379</td>\n",
       "    </tr>\n",
       "    <tr>\n",
       "      <th>22</th>\n",
       "      <td>0.007723</td>\n",
       "    </tr>\n",
       "    <tr>\n",
       "      <th>23</th>\n",
       "      <td>0.024753</td>\n",
       "    </tr>\n",
       "    <tr>\n",
       "      <th>24</th>\n",
       "      <td>0.055134</td>\n",
       "    </tr>\n",
       "  </tbody>\n",
       "</table>\n",
       "</div>"
      ],
      "text/plain": [
       "    Estimated Alphas\n",
       "0           0.146177\n",
       "1           0.030604\n",
       "2           0.002265\n",
       "3           0.040281\n",
       "4           0.065587\n",
       "5           0.061893\n",
       "6           0.041560\n",
       "7           0.052915\n",
       "8           0.054506\n",
       "9           0.044177\n",
       "10          0.140629\n",
       "11          0.002652\n",
       "12          0.038948\n",
       "13          0.093262\n",
       "14          0.002714\n",
       "15          0.013846\n",
       "16          0.046012\n",
       "17          0.094014\n",
       "18          0.052120\n",
       "19          0.039636\n",
       "20          0.006500\n",
       "21          0.059379\n",
       "22          0.007723\n",
       "23          0.024753\n",
       "24          0.055134"
      ]
     },
     "execution_count": 29,
     "metadata": {},
     "output_type": "execute_result"
    }
   ],
   "source": [
    "#print(latex_table(abs(P4_alphas - FM_alphas), caption=\"\", label=\"Alpha Differences\", index=True))\n",
    "abs(P4_alphas - FM_alphas)"
   ]
  }
 ],
 "metadata": {
  "kernelspec": {
   "display_name": "Python 3",
   "language": "python",
   "name": "python3"
  },
  "language_info": {
   "codemirror_mode": {
    "name": "ipython",
    "version": 3
   },
   "file_extension": ".py",
   "mimetype": "text/x-python",
   "name": "python",
   "nbconvert_exporter": "python",
   "pygments_lexer": "ipython3",
   "version": "3.7.7"
  }
 },
 "nbformat": 4,
 "nbformat_minor": 2
}
